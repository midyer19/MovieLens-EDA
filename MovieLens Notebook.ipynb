{
 "cells": [
  {
   "cell_type": "markdown",
   "metadata": {},
   "source": [
    "### 1. Import packages"
   ]
  },
  {
   "cell_type": "code",
   "execution_count": null,
   "metadata": {},
   "outputs": [],
   "source": [
    "import numpy as np\n",
    "import pandas as pd\n",
    "import matplotlib.pyplot as plt\n",
    "import seaborn as sns"
   ]
  },
  {
   "cell_type": "markdown",
   "metadata": {},
   "source": [
    "### 2. Read the 3 datasets into dataframes"
   ]
  },
  {
   "cell_type": "code",
   "execution_count": null,
   "metadata": {
    "scrolled": true
   },
   "outputs": [],
   "source": [
    "data = pd.read_csv(\"Data.csv\")\n",
    "item = pd.read_csv(\"item.csv\")\n",
    "user = pd.read_csv(\"user.csv\")"
   ]
  },
  {
   "cell_type": "markdown",
   "metadata": {},
   "source": [
    "### 3. Apply info, shape, describe, and find the number of missing values in the data."
   ]
  },
  {
   "cell_type": "markdown",
   "metadata": {},
   "source": [
    "#### Applying functions to the Data.csv file"
   ]
  },
  {
   "cell_type": "code",
   "execution_count": null,
   "metadata": {},
   "outputs": [],
   "source": [
    "data.info()\n",
    "print(\"\\nThe data shape is:\", data.shape)\n",
    "data.describe()"
   ]
  },
  {
   "cell_type": "code",
   "execution_count": null,
   "metadata": {},
   "outputs": [],
   "source": [
    "data.isnull().values.any()"
   ]
  },
  {
   "cell_type": "markdown",
   "metadata": {},
   "source": [
    "#### Applying functions to the item.csv file"
   ]
  },
  {
   "cell_type": "code",
   "execution_count": null,
   "metadata": {},
   "outputs": [],
   "source": [
    "item.info()\n",
    "print(\"\\nThe data shape is:\", item.shape)\n",
    "item.describe()"
   ]
  },
  {
   "cell_type": "code",
   "execution_count": null,
   "metadata": {},
   "outputs": [],
   "source": [
    "item.isnull().values.any()"
   ]
  },
  {
   "cell_type": "markdown",
   "metadata": {},
   "source": [
    "#### Applying functions to the user.csv file"
   ]
  },
  {
   "cell_type": "code",
   "execution_count": null,
   "metadata": {},
   "outputs": [],
   "source": [
    "user.info()\n",
    "print(\"\\nThe data shape is:\", user.shape)\n",
    "user.describe()"
   ]
  },
  {
   "cell_type": "code",
   "execution_count": null,
   "metadata": {},
   "outputs": [],
   "source": [
    "user.isnull().values.any()"
   ]
  },
  {
   "cell_type": "markdown",
   "metadata": {},
   "source": [
    "**Observations:**  \n",
    "1. 1682 different movies were given ratings concluded from the movie id max and the shape of item.csv.  \n",
    "2. 943 users reviewed movies which was concluded from the user id max from Data.csv and the shape of user.csv.  \n",
    "3. The average movie rating across all 100000 ratings is 3.52986.  \n",
    "4. There are no missing values in Data.csv, item.csv, or user.csv.\n"
   ]
  },
  {
   "cell_type": "markdown",
   "metadata": {},
   "source": [
    "### 4. Find the number of movies per genre using the item data"
   ]
  },
  {
   "cell_type": "code",
   "execution_count": null,
   "metadata": {},
   "outputs": [],
   "source": [
    "item_sum_df = pd.DataFrame(item.sum(), columns = [\"Count\"])\n",
    "drop = [\"movie id\", \"movie title\", \"release date\"]\n",
    "genres = item_sum_df.drop(index = drop, axis = 0).sort_values(\"Count\", ascending = False)\n",
    "genres"
   ]
  },
  {
   "cell_type": "markdown",
   "metadata": {},
   "source": [
    "**Insights:**\n",
    "1. There is 1 movie that is defined with the genre 'unknown'.\n",
    "2. The 'Drama' genre has the most ratings with 725.\n",
    "3. The 'Fantasy' genre has the least ratings with 22."
   ]
  },
  {
   "cell_type": "markdown",
   "metadata": {},
   "source": [
    "### 5. Drop the movie where the genre is unknown"
   ]
  },
  {
   "cell_type": "code",
   "execution_count": null,
   "metadata": {},
   "outputs": [],
   "source": [
    "item_df = pd.DataFrame(item)\n",
    "removed_movie_title = item_df[\"movie title\"][item_df.index[item_df['unknown'] == 1][0]]\n",
    "removed_movie_release_date = item_df[\"release date\"][item_df.index[item_df['unknown'] == 1][0]]\n",
    "item_df_1 = item_df.drop(index = item_df.index[item_df['unknown'] == 1], inplace = False)\n",
    "print(\"The shape of the original item df is\", item_df.shape)\n",
    "print(\"The shape of the new item df without the movie listed as 'unkown' is\", item_df_1.shape)\n",
    "print(\"The name of the movie removed is\", removed_movie_title, \"which was released on\", removed_movie_release_date)"
   ]
  },
  {
   "cell_type": "markdown",
   "metadata": {},
   "source": [
    "**Insights:**\n",
    "1. The shape of the original item df is (1681, 22)\n",
    "2. The shape of the new item df without the movie listed as 'unkown' is (1680, 22)\n",
    "3. The name of the movie removed is Good Morning  which was released on 4-Feb-1971\n",
    "\n"
   ]
  },
  {
   "cell_type": "markdown",
   "metadata": {},
   "source": [
    "### 6. Find the movies that have more than one genre"
   ]
  },
  {
   "cell_type": "markdown",
   "metadata": {},
   "source": [
    "#### Dataframe which displays the movie name and its number of genres.\n"
   ]
  },
  {
   "cell_type": "code",
   "execution_count": null,
   "metadata": {},
   "outputs": [],
   "source": [
    "num_of_genres = pd.DataFrame(item_df_1.iloc[:, 4:].sum(axis = 1), columns = [\"Number of Generes\"])\n",
    "title_genres = pd.concat([item_df_1[\"movie title\"], num_of_genres], axis = 1)\n",
    "title_genres"
   ]
  },
  {
   "cell_type": "markdown",
   "metadata": {},
   "source": [
    "#### Determining the number of movies which have more than one genre.\n"
   ]
  },
  {
   "cell_type": "code",
   "execution_count": null,
   "metadata": {},
   "outputs": [],
   "source": [
    "#Add movie genres wihtin row with the below code\n",
    "#title_genres.sum(axis = 1)\n",
    "\n",
    "#Determine which movies have more than 1 genre category with the below code and output NaN if == 1.\n",
    "#title_genres.sum(axis = 1).where(title_genres[\"Number of Generes\"] > 1)\n",
    "\n",
    "#Drop andy Nan values and display array length\n",
    "print(\"The number of movies which have more than one genre listed is\"\n",
    "      , len(title_genres.sum(axis = 1).where(title_genres[\"Number of Generes\"] > 1).dropna()))"
   ]
  },
  {
   "cell_type": "markdown",
   "metadata": {},
   "source": [
    "**Insights:**\n",
    "1. There are 1680 movies with valid listed movie genres (genre is not 'unkown') \n",
    "2. There are 849 movies with more than one genre listed\n",
    "3. There are 831 movies with only one genre listed\n",
    "\n"
   ]
  },
  {
   "cell_type": "markdown",
   "metadata": {},
   "source": [
    "### 7. Univariate plots of columns: 'rating', 'Age', 'release year', 'Gender' and 'Occupation'"
   ]
  },
  {
   "cell_type": "code",
   "execution_count": null,
   "metadata": {},
   "outputs": [],
   "source": [
    "a = 'My*cat*is*brown'\n",
    "print(a.split('*'))\n",
    "\n",
    "#similarly, the release year needs to be taken out from release date\n",
    "\n",
    "#also you can simply slice existing string to get the desired data, if we want to take out the colour of the cat\n",
    "\n",
    "print(a[10:])\n",
    "print(a[-5:])"
   ]
  },
  {
   "cell_type": "markdown",
   "metadata": {},
   "source": [
    "#### Displot for Age"
   ]
  },
  {
   "cell_type": "code",
   "execution_count": null,
   "metadata": {},
   "outputs": [],
   "source": [
    "sns.displot(user[\"age\"], kde = True);"
   ]
  },
  {
   "cell_type": "markdown",
   "metadata": {},
   "source": [
    "#### Countplot for Ratings"
   ]
  },
  {
   "cell_type": "code",
   "execution_count": null,
   "metadata": {},
   "outputs": [],
   "source": [
    "sns.countplot(x = \"rating\", data = data);"
   ]
  },
  {
   "cell_type": "markdown",
   "metadata": {},
   "source": [
    "#### Countplot for Gender"
   ]
  },
  {
   "cell_type": "code",
   "execution_count": null,
   "metadata": {},
   "outputs": [],
   "source": [
    "sns.countplot(x = \"gender\", data = user);"
   ]
  },
  {
   "cell_type": "markdown",
   "metadata": {},
   "source": [
    "#### Countplot for Occupation"
   ]
  },
  {
   "cell_type": "code",
   "execution_count": null,
   "metadata": {},
   "outputs": [],
   "source": [
    "fig, ax = plt.subplots(figsize = (15, 15))\n",
    "ax.grid()\n",
    "sns.countplot(y = \"occupation\", data = user, order = user['occupation'].value_counts().index, ax = ax);"
   ]
  },
  {
   "cell_type": "markdown",
   "metadata": {},
   "source": [
    "#### Countplot for release year"
   ]
  },
  {
   "cell_type": "code",
   "execution_count": null,
   "metadata": {},
   "outputs": [],
   "source": [
    "import re\n",
    "text_to_search = \" \".join(item_df_1[\"release date\"])\n",
    "pattern = re.compile(r'\\d{4}\\b')\n",
    "matches = pattern.finditer(text_to_search)\n",
    "c = []\n",
    "for mat in matches:\n",
    "    c.append(mat.group(0))"
   ]
  },
  {
   "cell_type": "code",
   "execution_count": null,
   "metadata": {},
   "outputs": [],
   "source": [
    "fig, ax = plt.subplots(figsize = (15, 15))\n",
    "ax.grid()\n",
    "release_year = pd.DataFrame(c, columns = [\"release year\"]).sort_values(by = \"release year\", ascending = False)\n",
    "sns.countplot(y = \"release year\", data = release_year); "
   ]
  },
  {
   "cell_type": "markdown",
   "metadata": {},
   "source": [
    "### 8. Visualize how popularity of genres has changed over the years"
   ]
  },
  {
   "cell_type": "markdown",
   "metadata": {},
   "source": [
    "#### Below is a data frame where the release year is the index and the genre is the column names"
   ]
  },
  {
   "cell_type": "code",
   "execution_count": null,
   "metadata": {},
   "outputs": [],
   "source": [
    "#first made an array of all the years each movie was released in \n",
    "date = []\n",
    "for i in item_df_1[\"release date\"]:\n",
    "    date.append(int(i[-4:]))\n",
    "\n",
    "#converted array into DF\n",
    "#joined DF with item_df_1 and dropped the columns ['movie id','movie title',\"unknown\",\"release date\"]\n",
    "#grouped by \"release year\" so there were not anymultiple rows with the same year\n",
    "#added the movie genres released that year\n",
    "#sorted by release year\n",
    "\n",
    "dg_release_year = pd.DataFrame(date, columns = [\"release year\"])\n",
    "                .join(item_df_1.drop(['movie id', 'movie title', \"unknown\", \"release date\"], 1))\n",
    "                .sort_values(by = \"release year\")\n",
    "dg = dg_release_year.groupby(\"release year\")[list(dg_release_year.columns[1:])].sum()\n",
    "dg"
   ]
  },
  {
   "cell_type": "markdown",
   "metadata": {},
   "source": [
    "#### Below is the total number of movie genres released in a year as a percentage"
   ]
  },
  {
   "cell_type": "code",
   "execution_count": null,
   "metadata": {
    "scrolled": false
   },
   "outputs": [],
   "source": [
    "# item dataset to get count of movies released in a particular year, store that value in a new column as 'total'\n",
    "# divide the value of each genre in that year by total percentage number of release in a particular year. `\n",
    "#(df.div(df['total'], axis = 0)*100)\n",
    "year_total = pd.DataFrame(dg.sum(axis = 1), columns = [\"total percent\"])\n",
    "year_total\n",
    "\n",
    "dg_1 = dg.join(year_total).div(dg.join(year_total)[\"total percent\"], axis = 0)\n",
    "fig, ax = plt.subplots(figsize = (20, 20))\n",
    "sns.heatmap(data = dg_1, annot = True, fmt = '.0%');"
   ]
  },
  {
   "cell_type": "markdown",
   "metadata": {},
   "source": [
    "**Insights:**\n",
    "- Drama movies have been produced since 1922 to 1998.\n",
    "- Comedy movies seem to be the second most produced through the years 1922 - 1998. \n",
    "- There appears to be a large quantity of Horror and Drama movies released in 1922, 1926, and 1930. However; there was only one movie released those years within this sample.\n"
   ]
  },
  {
   "cell_type": "markdown",
   "metadata": {},
   "source": [
    "### 9. Find the top 25 movies in terms of average ratings for movies that have been rated more than 100 times"
   ]
  },
  {
   "cell_type": "markdown",
   "metadata": {},
   "source": [
    "#### Find the count of ratings and average ratings for every movie"
   ]
  },
  {
   "cell_type": "code",
   "execution_count": null,
   "metadata": {},
   "outputs": [],
   "source": [
    "movie_id_avg_rate = data[[\"movie id\", \"rating\"]].groupby(by = \"movie id\").mean().round(decimals = 2)\n",
    "movie_id_count = pd.DataFrame(data[\"movie id\"].value_counts()).rename(columns = {\"movie id\": \"count\"})\n",
    "movie_id_avg_rate_count = movie_id_avg_rate.join(movie_id_count, sort = True)\n",
    "\n",
    "movie_id_avg_rate_count"
   ]
  },
  {
   "cell_type": "markdown",
   "metadata": {},
   "source": [
    "#### Slice the movies which have more than 100 ratings and sort according to average rating such that movie which highest rating is on top."
   ]
  },
  {
   "cell_type": "code",
   "execution_count": null,
   "metadata": {},
   "outputs": [],
   "source": [
    "movie_id_count_100 = pd.DataFrame(movie_id_avg_rate_count[movie_id_avg_rate_count['count'] >= 100])\n",
    "                    .sort_values(by = \"rating\", ascending = False)\n",
    "movie_id_count_100"
   ]
  },
  {
   "cell_type": "markdown",
   "metadata": {},
   "source": [
    "#### Select top 25 movies"
   ]
  },
  {
   "cell_type": "code",
   "execution_count": null,
   "metadata": {},
   "outputs": [],
   "source": [
    "#The below section checks if the movie with an unknown genre description is in the top 25 list\n",
    "top_25 = movie_id_count_100.head(25)\n",
    "movie_unknown_genre = item_df.index[item_df['unknown'] == 1][0]\n",
    "if item_df.index[item_df['unknown'] == 1][0] not in list(top_25.sort_index().index):\n",
    "    print(\"NOTE: The name of the movie with an 'unknown' genre is Good Morning which has a movie id:\"\n",
    "          , movie_unknown_genre\n",
    "          ,\"is not in the top 25 movies.\")\n",
    "    \n",
    "#The below section selects the top 25 movies and displays their name, avg rating, and rating count \n",
    "\n",
    "top_25_movies = pd.merge(top_25, item[[\"movie id\",\"movie title\"]].set_index(keys = \"movie id\"), how = 'inner', on = 'movie id')[[\"movie title\",\"rating\",\"count\"]]\n",
    "top_25_movies\n"
   ]
  },
  {
   "cell_type": "markdown",
   "metadata": {},
   "source": [
    "### 10. Check for the validity of the below statements with respect to the data provided\n",
    "\n",
    "* Men watch more drama than women\n",
    "* Women watch more Sci-Fi than men\n",
    "* Men watch more Romance than women"
   ]
  },
  {
   "cell_type": "code",
   "execution_count": null,
   "metadata": {},
   "outputs": [],
   "source": [
    "ud = user.merge(data, on = \"user id\", how = \"inner\")\n",
    "df = item.merge(ud, on = \"movie id\", how = \"inner\")\n",
    "df"
   ]
  },
  {
   "cell_type": "code",
   "execution_count": null,
   "metadata": {},
   "outputs": [],
   "source": [
    "genre_by_gender = df.groupby(\"gender\").sum().loc[:, \"Action\":\"Western\"]\n",
    "genre_by_gender"
   ]
  },
  {
   "cell_type": "code",
   "execution_count": null,
   "metadata": {},
   "outputs": [],
   "source": [
    "genre_by_gender[\"Total\"] = df[\"gender\"].value_counts()\n",
    "genre_by_gender"
   ]
  },
  {
   "cell_type": "code",
   "execution_count": null,
   "metadata": {},
   "outputs": [],
   "source": [
    "genre_by_gender = genre_by_gender.div(genre_by_gender.Total, axis = 0)*100\n",
    "genre_by_gender"
   ]
  },
  {
   "cell_type": "code",
   "execution_count": null,
   "metadata": {},
   "outputs": [],
   "source": [
    "fig, ax = plt.subplots(ncols = 3, figsize = (18, 5))\n",
    "\n",
    "genre_by_gender[\"Drama\"].plot(kind = \"barh\", ax = ax[0], label = \"Drama\")\n",
    "ax[0].legend();\n",
    "\n",
    "genre_by_gender[\"Sci-Fi\"].plot(kind = \"barh\", ax = ax[1], label = \"Sci-Fi\")\n",
    "ax[1].legend();\n",
    "\n",
    "genre_by_gender[\"Romance\"].plot(kind = \"barh\", ax = ax[2], label = \"Romance\")\n",
    "ax[2].legend();\n",
    "\n",
    "plt.show()"
   ]
  },
  {
   "cell_type": "code",
   "execution_count": null,
   "metadata": {},
   "outputs": [],
   "source": [
    "genre_by_gender[[\"Drama\", \"Sci-Fi\", \"Romance\"]]"
   ]
  },
  {
   "cell_type": "markdown",
   "metadata": {},
   "source": [
    "**Conclusion:**\n",
    "* Men watch more Drama than women.\n",
    "        False. 42.77% of total ratings by Women were for Drama movies compared to 38.90% of total Mens ratings.\n",
    "* Women watch more Sci-Fi than men.\n",
    "        False. 10.21% of total ratings by Women were for Sci-Fi movies compared to 13.60% of total Mens ratings.\n",
    "* Men watch more Romance than women.\n",
    "        False. 22.76% of total ratings by Women were for Romance movies compared to 18.32% of total Mens ratings.\n",
    "    \n"
   ]
  }
 ],
 "metadata": {
  "kernelspec": {
   "display_name": "Python 3",
   "language": "python",
   "name": "python3"
  },
  "language_info": {
   "codemirror_mode": {
    "name": "ipython",
    "version": 3
   },
   "file_extension": ".py",
   "mimetype": "text/x-python",
   "name": "python",
   "nbconvert_exporter": "python",
   "pygments_lexer": "ipython3",
   "version": "3.6.5"
  }
 },
 "nbformat": 4,
 "nbformat_minor": 2
}
